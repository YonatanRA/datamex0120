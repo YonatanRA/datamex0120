{
 "cells": [
  {
   "cell_type": "code",
   "execution_count": 6,
   "metadata": {},
   "outputs": [],
   "source": [
    "import json\n",
    "import requests\n",
    "import pandas as pd\n",
    "from pandas.io.json import json_normalize\n",
    "import numpy as np"
   ]
  },
  {
   "cell_type": "code",
   "execution_count": 27,
   "metadata": {},
   "outputs": [
    {
     "data": {
      "text/plain": [
       "Index(['id', 'node_id', 'name', 'full_name', 'private', 'html_url',\n",
       "       'description', 'fork', 'url', 'forks_url', 'keys_url',\n",
       "       'collaborators_url', 'teams_url', 'hooks_url', 'issue_events_url',\n",
       "       'events_url', 'assignees_url', 'branches_url', 'tags_url', 'blobs_url',\n",
       "       'git_tags_url', 'git_refs_url', 'trees_url', 'statuses_url',\n",
       "       'languages_url', 'stargazers_url', 'contributors_url',\n",
       "       'subscribers_url', 'subscription_url', 'commits_url', 'git_commits_url',\n",
       "       'comments_url', 'issue_comment_url', 'contents_url', 'compare_url',\n",
       "       'merges_url', 'archive_url', 'downloads_url', 'issues_url', 'pulls_url',\n",
       "       'milestones_url', 'notifications_url', 'labels_url', 'releases_url',\n",
       "       'deployments_url', 'created_at', 'updated_at', 'pushed_at', 'git_url',\n",
       "       'ssh_url', 'clone_url', 'svn_url', 'homepage', 'size',\n",
       "       'stargazers_count', 'watchers_count', 'language', 'has_issues',\n",
       "       'has_projects', 'has_downloads', 'has_wiki', 'has_pages', 'forks_count',\n",
       "       'mirror_url', 'archived', 'disabled', 'open_issues_count', 'forks',\n",
       "       'open_issues', 'watchers', 'default_branch', 'owner.login', 'owner.id',\n",
       "       'owner.node_id', 'owner.avatar_url', 'owner.gravatar_id', 'owner.url',\n",
       "       'owner.html_url', 'owner.followers_url', 'owner.following_url',\n",
       "       'owner.gists_url', 'owner.starred_url', 'owner.subscriptions_url',\n",
       "       'owner.organizations_url', 'owner.repos_url', 'owner.events_url',\n",
       "       'owner.received_events_url', 'owner.type', 'owner.site_admin',\n",
       "       'license.key', 'license.name', 'license.spdx_id', 'license.url',\n",
       "       'license.node_id'],\n",
       "      dtype='object')"
      ]
     },
     "execution_count": 27,
     "metadata": {},
     "output_type": "execute_result"
    }
   ],
   "source": [
    "url='https://api.github.com/repos/ironhack-datalabs/datamex1019/forks'\n",
    "\n",
    "response = requests.get(url)\n",
    "results = response.json()\n",
    "flattened_data = json_normalize(results)\n",
    "df1 = flattened_data\n",
    "df1.columns"
   ]
  },
  {
   "cell_type": "code",
   "execution_count": 28,
   "metadata": {},
   "outputs": [
    {
     "data": {
      "text/plain": [
       "array([None, 'Jupyter Notebook'], dtype=object)"
      ]
     },
     "execution_count": 28,
     "metadata": {},
     "output_type": "execute_result"
    }
   ],
   "source": [
    "lang = []\n",
    "\n",
    "for i in df1['language']:\n",
    "    lang.append(i)\n",
    "\n",
    "ary = np.array(list(set(lang)))\n",
    "\n",
    "ary\n"
   ]
  },
  {
   "cell_type": "code",
   "execution_count": 39,
   "metadata": {},
   "outputs": [],
   "source": [
    "url = 'https://api.github.com/repos/ironhack-datalabs/datamex0120/commits'"
   ]
  },
  {
   "cell_type": "code",
   "execution_count": 53,
   "metadata": {},
   "outputs": [
    {
     "data": {
      "text/html": [
       "<div>\n",
       "<style scoped>\n",
       "    .dataframe tbody tr th:only-of-type {\n",
       "        vertical-align: middle;\n",
       "    }\n",
       "\n",
       "    .dataframe tbody tr th {\n",
       "        vertical-align: top;\n",
       "    }\n",
       "\n",
       "    .dataframe thead th {\n",
       "        text-align: right;\n",
       "    }\n",
       "</style>\n",
       "<table border=\"1\" class=\"dataframe\">\n",
       "  <thead>\n",
       "    <tr style=\"text-align: right;\">\n",
       "      <th></th>\n",
       "      <th>sha</th>\n",
       "      <th>node_id</th>\n",
       "      <th>url</th>\n",
       "      <th>html_url</th>\n",
       "      <th>comments_url</th>\n",
       "      <th>parents</th>\n",
       "      <th>commit.author.name</th>\n",
       "      <th>commit.author.email</th>\n",
       "      <th>commit.author.date</th>\n",
       "      <th>commit.committer.name</th>\n",
       "      <th>...</th>\n",
       "      <th>committer.following_url</th>\n",
       "      <th>committer.gists_url</th>\n",
       "      <th>committer.starred_url</th>\n",
       "      <th>committer.subscriptions_url</th>\n",
       "      <th>committer.organizations_url</th>\n",
       "      <th>committer.repos_url</th>\n",
       "      <th>committer.events_url</th>\n",
       "      <th>committer.received_events_url</th>\n",
       "      <th>committer.type</th>\n",
       "      <th>committer.site_admin</th>\n",
       "    </tr>\n",
       "  </thead>\n",
       "  <tbody>\n",
       "    <tr>\n",
       "      <th>0</th>\n",
       "      <td>ad0710ecb264769fbdb8e8ed3e14f9bf5a5223f9</td>\n",
       "      <td>MDY6Q29tbWl0MjMyMTQxMTc1OmFkMDcxMGVjYjI2NDc2OW...</td>\n",
       "      <td>https://api.github.com/repos/ironhack-datalabs...</td>\n",
       "      <td>https://github.com/ironhack-datalabs/datamex01...</td>\n",
       "      <td>https://api.github.com/repos/ironhack-datalabs...</td>\n",
       "      <td>[]</td>\n",
       "      <td>YonatanRA</td>\n",
       "      <td>yeho@mail.com</td>\n",
       "      <td>2020-01-06T16:34:12Z</td>\n",
       "      <td>YonatanRA</td>\n",
       "      <td>...</td>\n",
       "      <td>https://api.github.com/users/YonatanRA/followi...</td>\n",
       "      <td>https://api.github.com/users/YonatanRA/gists{/...</td>\n",
       "      <td>https://api.github.com/users/YonatanRA/starred...</td>\n",
       "      <td>https://api.github.com/users/YonatanRA/subscri...</td>\n",
       "      <td>https://api.github.com/users/YonatanRA/orgs</td>\n",
       "      <td>https://api.github.com/users/YonatanRA/repos</td>\n",
       "      <td>https://api.github.com/users/YonatanRA/events{...</td>\n",
       "      <td>https://api.github.com/users/YonatanRA/receive...</td>\n",
       "      <td>User</td>\n",
       "      <td>False</td>\n",
       "    </tr>\n",
       "  </tbody>\n",
       "</table>\n",
       "<p>1 rows × 57 columns</p>\n",
       "</div>"
      ],
      "text/plain": [
       "                                        sha  \\\n",
       "0  ad0710ecb264769fbdb8e8ed3e14f9bf5a5223f9   \n",
       "\n",
       "                                             node_id  \\\n",
       "0  MDY6Q29tbWl0MjMyMTQxMTc1OmFkMDcxMGVjYjI2NDc2OW...   \n",
       "\n",
       "                                                 url  \\\n",
       "0  https://api.github.com/repos/ironhack-datalabs...   \n",
       "\n",
       "                                            html_url  \\\n",
       "0  https://github.com/ironhack-datalabs/datamex01...   \n",
       "\n",
       "                                        comments_url parents  \\\n",
       "0  https://api.github.com/repos/ironhack-datalabs...      []   \n",
       "\n",
       "  commit.author.name commit.author.email    commit.author.date  \\\n",
       "0          YonatanRA       yeho@mail.com  2020-01-06T16:34:12Z   \n",
       "\n",
       "  commit.committer.name  ...  \\\n",
       "0             YonatanRA  ...   \n",
       "\n",
       "                             committer.following_url  \\\n",
       "0  https://api.github.com/users/YonatanRA/followi...   \n",
       "\n",
       "                                 committer.gists_url  \\\n",
       "0  https://api.github.com/users/YonatanRA/gists{/...   \n",
       "\n",
       "                               committer.starred_url  \\\n",
       "0  https://api.github.com/users/YonatanRA/starred...   \n",
       "\n",
       "                         committer.subscriptions_url  \\\n",
       "0  https://api.github.com/users/YonatanRA/subscri...   \n",
       "\n",
       "                   committer.organizations_url  \\\n",
       "0  https://api.github.com/users/YonatanRA/orgs   \n",
       "\n",
       "                            committer.repos_url  \\\n",
       "0  https://api.github.com/users/YonatanRA/repos   \n",
       "\n",
       "                                committer.events_url  \\\n",
       "0  https://api.github.com/users/YonatanRA/events{...   \n",
       "\n",
       "                       committer.received_events_url committer.type  \\\n",
       "0  https://api.github.com/users/YonatanRA/receive...           User   \n",
       "\n",
       "  committer.site_admin  \n",
       "0                False  \n",
       "\n",
       "[1 rows x 57 columns]"
      ]
     },
     "execution_count": 53,
     "metadata": {},
     "output_type": "execute_result"
    }
   ],
   "source": [
    "response = requests.get(url)\n",
    "results = response.json()\n",
    "flattened_data = json_normalize(results)\n",
    "df = pd.DataFrame(flattened_data)\n",
    "df"
   ]
  },
  {
   "cell_type": "code",
   "execution_count": 49,
   "metadata": {},
   "outputs": [
    {
     "data": {
      "text/plain": [
       "0    2020-01-06T16:34:12Z\n",
       "Name: commit.author.date, dtype: object"
      ]
     },
     "execution_count": 49,
     "metadata": {},
     "output_type": "execute_result"
    }
   ],
   "source": [
    "flattened_data['commit.author.date']"
   ]
  },
  {
   "cell_type": "code",
   "execution_count": 51,
   "metadata": {},
   "outputs": [
    {
     "data": {
      "text/plain": [
       "['YonatanRA']"
      ]
     },
     "execution_count": 51,
     "metadata": {},
     "output_type": "execute_result"
    }
   ],
   "source": [
    "indexes = flattened_data['commit.author.name'].value_counts().index\n",
    "commiters = []\n",
    "for i in indexes:\n",
    "    commiters.append(i)\n",
    "    \n",
    "commiters\n"
   ]
  },
  {
   "cell_type": "code",
   "execution_count": 54,
   "metadata": {},
   "outputs": [],
   "source": [
    "url='https://api.github.com/repos/ironhack-datalabs/scavenger/contents'"
   ]
  },
  {
   "cell_type": "code",
   "execution_count": 57,
   "metadata": {},
   "outputs": [
    {
     "data": {
      "text/plain": [
       "Index(['name', 'path', 'sha', 'size', 'url', 'html_url', 'git_url',\n",
       "       'download_url', 'type', '_links'],\n",
       "      dtype='object')"
      ]
     },
     "execution_count": 57,
     "metadata": {},
     "output_type": "execute_result"
    }
   ],
   "source": [
    "response = requests.get(url)\n",
    "results = response.json()\n",
    "df2 = pd.DataFrame(results)\n",
    "df2.columns"
   ]
  },
  {
   "cell_type": "code",
   "execution_count": 58,
   "metadata": {},
   "outputs": [
    {
     "data": {
      "text/plain": [
       "['.gitignore',\n",
       " '15024',\n",
       " '15534',\n",
       " '17020',\n",
       " '30351',\n",
       " '40303',\n",
       " '44639',\n",
       " '45525',\n",
       " '47222',\n",
       " '47830',\n",
       " '49418',\n",
       " '50896',\n",
       " '55417',\n",
       " '55685',\n",
       " '60224',\n",
       " '64880',\n",
       " '66032',\n",
       " '68848',\n",
       " '70751',\n",
       " '70985',\n",
       " '88596',\n",
       " '89046',\n",
       " '89338',\n",
       " '91701',\n",
       " '97881',\n",
       " '98750']"
      ]
     },
     "execution_count": 58,
     "metadata": {},
     "output_type": "execute_result"
    }
   ],
   "source": [
    "main_paths = []\n",
    "for path in main.path:\n",
    "    main_paths.append(path)\n",
    "\n",
    "main_paths"
   ]
  },
  {
   "cell_type": "code",
   "execution_count": null,
   "metadata": {},
   "outputs": [],
   "source": []
  },
  {
   "cell_type": "code",
   "execution_count": null,
   "metadata": {},
   "outputs": [],
   "source": []
  },
  {
   "cell_type": "code",
   "execution_count": null,
   "metadata": {},
   "outputs": [],
   "source": []
  }
 ],
 "metadata": {
  "kernelspec": {
   "display_name": "Python 3",
   "language": "python",
   "name": "python3"
  },
  "language_info": {
   "codemirror_mode": {
    "name": "ipython",
    "version": 3
   },
   "file_extension": ".py",
   "mimetype": "text/x-python",
   "name": "python",
   "nbconvert_exporter": "python",
   "pygments_lexer": "ipython3",
   "version": "3.6.8"
  }
 },
 "nbformat": 4,
 "nbformat_minor": 2
}
